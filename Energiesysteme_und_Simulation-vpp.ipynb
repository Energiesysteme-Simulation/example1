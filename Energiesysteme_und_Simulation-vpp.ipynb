{
 "cells": [
  {
   "cell_type": "markdown",
   "metadata": {},
   "source": [
    "# Beispiel 1 für die Energiesystemmodellierung eines kleinen Energiesystem"
   ]
  },
  {
   "cell_type": "markdown",
   "metadata": {},
   "source": [
    "Dieses Jupyter Notebook führt durch ein Beispiel der Energiesystemmodellierung. Dabei werden die folgenden Schritte durchgeführt:\n",
    "* [Import](#chapter1)\n",
    "    * [Import der benötigten Python Module](#section_1_1)\n",
    "    * [Import der Daten](#section_1_2)\n",
    "* [Definition der Variablen und Objekte](#chapter2)\n",
    "    * [Definition von Anlagenparametern](#section_2_1)\n",
    "        * [Komponenten des Haushalts](#section_2_1_1)\n",
    "        * [Netzanschluss](#section_2_1_2)\n",
    "    * [Verwendung von PyPSA um das Energiemodell aufzubauen](#section_2_2)\n",
    "        * [Definition des Netzwerks](#section_2_2_1)\n",
    "        * [Knoten definieren](#section_2_2_2)\n",
    "        * [Lasten definieren](#section_2_2_3)\n",
    "        * [Erzeugungseinheiten definieren](#section_2_2_4)\n",
    "        * [Speicher definieren](#section_2_2_5)\n",
    "        * [Netzanschluss definieren](#section_2_2_6)\n",
    "* [Simulation](#chapter3)\n",
    "    * [Simulation der Basiskonfiguration](#section_3_1)\n",
    "    * [Auswertungsfunktion](#section_3_2)\n",
    "    * [Visualisierung der Ergebnisse](#section_3_3)\n",
    "    * [Erweiterterung der Konfiguration](#section_3_4)\n",
    "    * [Simulation der erweiterten Konfiguration](#section_3_5)\n",
    "* [Visualisierung des Vergleichs](#chapter4)\n",
    "\n"
   ]
  },
  {
   "cell_type": "markdown",
   "metadata": {},
   "source": [
    "# Import <a class=\"anchor\" id=\"chapter1\"></a>"
   ]
  },
  {
   "cell_type": "markdown",
   "metadata": {},
   "source": [
    "## Import der benötigten Python Module <a class=\"anchor\" id=\"section_1_1\"></a>"
   ]
  },
  {
   "cell_type": "code",
   "execution_count": null,
   "metadata": {},
   "outputs": [],
   "source": [
    "import pypsa\n",
    "import pandas as pd\n",
    "import math"
   ]
  },
  {
   "cell_type": "markdown",
   "metadata": {},
   "source": [
    "## Import der Daten <a class=\"anchor\" id=\"section_1_2\"></a>"
   ]
  },
  {
   "cell_type": "markdown",
   "metadata": {},
   "source": [
    "Die Werte der Zeitreihen sind in einem Unterordner \"data\" als csv-Datein abgelegt. Sie bilden den Oktober 2019 ab und werden mithilfe des Python Moduls pandas eingelesen und als Variablen angelegt. Dabei werden Parameter wie der Separator (hier \";\") und die Indexspalte sowie die Funktion, aus der Indexspalte Zeit und Datenformate auszulesen gesetzt."
   ]
  },
  {
   "cell_type": "code",
   "execution_count": null,
   "metadata": {},
   "outputs": [],
   "source": [
    "electrical_load = pd.read_csv('./data/SumProfiles_Electricity.csv', sep = ';', index_col='Time', parse_dates=True)\n",
    "thermal_load = pd.read_csv('./data/SumProfiles_Gas.csv', sep = ';', index_col='Time', parse_dates=True)\n",
    "pv_infeed = pd.read_csv('./data/pv_infeed.csv', sep = ';', index_col='Time', parse_dates=True)"
   ]
  },
  {
   "cell_type": "markdown",
   "metadata": {},
   "source": [
    "Die eingelesenen Zeitreihen sind so noch nicht vollständig nutzbar. Um die Einspeisung der PV-Anlage zu normieren wird eine neue Spalte mit dem normierten Leistungsoutput sowie neue Spalten mit der Leistung der Last in den jeweiligen Variablen angelegt."
   ]
  },
  {
   "cell_type": "code",
   "execution_count": null,
   "metadata": {},
   "outputs": [],
   "source": [
    "#Die gemessene PV-Einspeiseganglinie ist von einer Anlage mit einer Leistung von 3,6 kWp \n",
    "pv_infeed['p_max_pu'] = pv_infeed.power_kw/3.6 \n",
    "\n",
    "#Das Profil hat eine Energienachfrage in kwh pro 10 Minuten, daher die Umrechnung in Leistung\n",
    "electrical_load['power_kw'] = electrical_load.demand_kwh * (60.0/10.0)\n",
    "thermal_load['power_kw'] = thermal_load.demand_kwh * (60.0/10.0)"
   ]
  },
  {
   "cell_type": "markdown",
   "metadata": {},
   "source": [
    "Um einen kurzen Einblick in die Daten zu erhalten, schauen wir uns nur einen Ausschnitt aller drei Tabellen an:"
   ]
  },
  {
   "cell_type": "code",
   "execution_count": null,
   "metadata": {},
   "outputs": [],
   "source": [
    "df_figure = pd.concat([electrical_load.power_kw, thermal_load.power_kw, pv_infeed.power_kw], axis = 1)\n",
    "df_figure.columns = ['Elektrische Last', 'Thermische Last', 'PV Einspeisung']\n",
    "df_figure.loc['10-13-19 00:00:00':'10-14-19 23:50:00'].plot(subplots = True, figsize=(15,10), title= 'Leistung in kW')"
   ]
  },
  {
   "cell_type": "markdown",
   "metadata": {},
   "source": [
    "# Definition der Variablen und Objekte <a class=\"anchor\" id=\"chapter2\"></a>"
   ]
  },
  {
   "cell_type": "markdown",
   "metadata": {},
   "source": [
    "## Definition von Anlagenparametern <a class=\"anchor\" id=\"section_2_1\"></a>"
   ]
  },
  {
   "cell_type": "markdown",
   "metadata": {},
   "source": [
    "Die Parameter der PV-Anlage, sowie die Wärmepumpe und der Heizkessel mit thermischen Speicher werden hier definiert. Die Definition ist an reale technische Anlagen angelehnt. Um Einflüsse der verschiedenen Komponenten auf die Ergebnisse zu erfassen, können sie geändert werden."
   ]
  },
  {
   "cell_type": "markdown",
   "metadata": {},
   "source": [
    "### Komponenten des Haushalts <a class=\"anchor\" id=\"section_2_1_1\"></a>"
   ]
  },
  {
   "cell_type": "markdown",
   "metadata": {},
   "source": [
    "Die Parameter sind in kW bzw. in cent/kWh angegeben und werden in ein python Dictionary gespeichert."
   ]
  },
  {
   "cell_type": "code",
   "execution_count": null,
   "metadata": {},
   "outputs": [],
   "source": [
    "# PV-Anlage\n",
    "pv = {\"electrical_power\": 8.0}\n",
    "\n",
    "#Heizkessel\n",
    "heating_boiler = {\"thermal_power\": 20.0,\n",
    "                   \"efficiency\":0.98,# Effizienz als normierte Kennzahl\n",
    "                   \"gas_costs\": 6.2} #Kosten in cent/kWh\n",
    "\n",
    "#Warmwasserspeicher\n",
    "hot_water_storage =  {\"thermal_power\": 20.0,\n",
    "                   \"thermal_capacity\":6.6, #Kapazität in kWh\n",
    "                   \"standing_loss\": 0.01}  #Selbstentlasdungsverluste in Energie des Speicherinhalts, \n",
    "                                           #der sich nach einer Stunde selbst entladen hat.\n",
    "                      "
   ]
  },
  {
   "cell_type": "markdown",
   "metadata": {},
   "source": [
    "### Netzanschluss <a class=\"anchor\" id=\"section_2_1_2\"></a>"
   ]
  },
  {
   "cell_type": "markdown",
   "metadata": {},
   "source": [
    "Der Netzanschluss wird für den Haushalt mit 14,5 kW angenommen. \n",
    "Hier ist auch eine Kappungsgrenze bei 70% der Nennleistung der PV-Anlage implementiert."
   ]
  },
  {
   "cell_type": "code",
   "execution_count": null,
   "metadata": {},
   "outputs": [],
   "source": [
    "# Leistungsbezug aus dem Netz\n",
    "grid_import = {\"electrical_power\" : 14.5,\n",
    "                \"electricity_price\": 30.0} #Preise in cent/kWh\n",
    "\n",
    "#Leistungsabgabe in das Netz\n",
    "grid_export = {\"electrical_power\" : 0.7 * pv[\"electrical_power\"], #Repräsentiert die 70% Kappungsgrenze bei kleinen PV-Anlagen\n",
    "                \"electricity_revenue\": 10.33} #EEG-Erlöse in cent/kWh"
   ]
  },
  {
   "cell_type": "markdown",
   "metadata": {},
   "source": [
    "## Verwendung von PyPSA um das Energiemodell aufzubauen <a class=\"anchor\" id=\"section_2_2\"></a>"
   ]
  },
  {
   "cell_type": "markdown",
   "metadata": {},
   "source": [
    "Im Folgenden verwenden wir das offene Python Modul PyPSA um unser Energiesystem zu bauen. Diese ist objektorientiert aufgebaut und hat verschiedene Module, welche zu einem Energiesystem zusammengesetzt werden können. Gleichzeitig kann der Einsatz der Komponenten nach Grenzkosten bestimmt werden. Es lassen sich auch AC- und DC-Netzflussberechnungen sowie Kapazitätsplanungen mit der Bibliothek ausführen."
   ]
  },
  {
   "cell_type": "markdown",
   "metadata": {},
   "source": [
    "### Definition des Netzwerks  <a class=\"anchor\" id=\"section_2_2_1\"></a>"
   ]
  },
  {
   "cell_type": "markdown",
   "metadata": {},
   "source": [
    "Das Netzwerk ist das PyPSA Objekt, welches alle anderen Objekte enthält. Es definiert damit die Basisparameter unseres Energiesystems. Wir erstellen zunächst ein leeres Netzwerk und definieren dann die Zeitschritte. Diese lesen wir aus den Eingangsdaten ab."
   ]
  },
  {
   "cell_type": "code",
   "execution_count": null,
   "metadata": {},
   "outputs": [],
   "source": [
    "#Netzwerk definieren\n",
    "network = pypsa.Network()\n",
    "network.set_snapshots(pv_infeed.index)\n",
    "network.snapshot_weightings = pd.Series(data = 1/6, index = network.snapshots) #Jeder Zeitpunkt repräsentiert 10 Minuten also 1/6 Stunde."
   ]
  },
  {
   "cell_type": "markdown",
   "metadata": {},
   "source": [
    "### Knoten definieren <a class=\"anchor\" id=\"section_2_2_2\"></a>"
   ]
  },
  {
   "cell_type": "markdown",
   "metadata": {},
   "source": [
    "An Knoten werden bei PyPSA die Energieflüsse bilanziert und die Komponenten an diese angeschlossen. Wir definieren hier einen Strom- und einen thermischen Knoten."
   ]
  },
  {
   "cell_type": "code",
   "execution_count": null,
   "metadata": {},
   "outputs": [],
   "source": [
    "#Stromknoten definieren\n",
    "network.add(\"Bus\", \n",
    "            name = \"electricity\")\n",
    "\n",
    "#Wärmeknoten definieren\n",
    "network.add(\"Bus\", \n",
    "            name = \"thermal\")"
   ]
  },
  {
   "cell_type": "markdown",
   "metadata": {},
   "source": [
    "### Lasten definieren <a class=\"anchor\" id=\"section_2_2_3\"></a>"
   ]
  },
  {
   "cell_type": "markdown",
   "metadata": {},
   "source": [
    "An jeden Knoten wird nun eine Last angeschlossen. Diese wird mit den Leistungszeitreihen der jeweiligen Lasten belegt."
   ]
  },
  {
   "cell_type": "code",
   "execution_count": null,
   "metadata": {},
   "outputs": [],
   "source": [
    "# Elektrische Last\n",
    "network.add(\"Load\", \n",
    "            name =\"electricity_load\", \n",
    "            bus = \"electricity\", \n",
    "            p_set = electrical_load.power_kw)\n",
    "\n",
    "# Thermische last\n",
    "network.add(\"Load\", \n",
    "            name =\"thermal_load\", \n",
    "            bus = \"thermal\", \n",
    "            p_set = thermal_load.power_kw)\n"
   ]
  },
  {
   "cell_type": "markdown",
   "metadata": {},
   "source": [
    "### Erzeugungseinheiten definieren <a class=\"anchor\" id=\"section_2_2_4\"></a>"
   ]
  },
  {
   "cell_type": "markdown",
   "metadata": {},
   "source": [
    "In PyPSA sind Erzeugungseinheiten als \"Generator\" definiert. Diese haben eine installierte Leistung \"p_nom\" und ggf. eine normierte maximale Leistung \"p_max_pu\".\n",
    "Wir definieren die PV-Anlage und den Heizkessel."
   ]
  },
  {
   "cell_type": "code",
   "execution_count": null,
   "metadata": {},
   "outputs": [],
   "source": [
    "#PV-Anlage\n",
    "network.add(\"Generator\", \n",
    "            name = \"pv\",\n",
    "            bus = \"electricity\", \n",
    "            p_nom = pv[\"electrical_power\"], \n",
    "            p_max_pu = pv_infeed.p_max_pu, \n",
    "            marginal_cost = 0)\n",
    "\n",
    "#Heizkessel\n",
    "network.add(\"Generator\", \n",
    "            name = \"boiler\", \n",
    "            bus = \"thermal\", \n",
    "            p_nom = heating_boiler[\"thermal_power\"], efficiency=heating_boiler[\"efficiency\"], \n",
    "            marginal_cost = heating_boiler[\"gas_costs\"]/heating_boiler[\"efficiency\"])"
   ]
  },
  {
   "cell_type": "markdown",
   "metadata": {},
   "source": [
    "### Speicher definieren <a class=\"anchor\" id=\"section_2_2_5\"></a>"
   ]
  },
  {
   "cell_type": "markdown",
   "metadata": {},
   "source": [
    "Wir definieren den Speicher. Dabei wird ein Hilfsknoten definiert, an welchem die Einspeicherleistung, die Ausspeicherleistung als steuerbare Verbindung zwischen zwei Knoten und der Speicher selbst angeschlossen werden."
   ]
  },
  {
   "cell_type": "code",
   "execution_count": null,
   "metadata": {},
   "outputs": [],
   "source": [
    "# Hilfsknoten\n",
    "network.add(\"Bus\", \n",
    "            name = \"storage_thermal\")\n",
    "\n",
    "#Einspeicherleistung vom Knoten \"thermal\" zum Knoten \"storage_thermal\"\n",
    "network.add(\"Link\", \n",
    "            name = \"hot_water_storage_charge\", \n",
    "            bus0 = \"thermal\", \n",
    "            bus1 = \"storage_thermal\", \n",
    "            p_nom = hot_water_storage[\"thermal_power\"])\n",
    "\n",
    "#Ausspeicherleistung vom Knoten \"storage_thermal\" zum Knoten \"thermal\"\n",
    "network.add(\"Link\", \n",
    "            name = \"hot_water_storage_discharge\", \n",
    "            bus0 = \"storage_thermal\", \n",
    "            bus1 = \"thermal\", \n",
    "            p_nom = hot_water_storage[\"thermal_power\"])\n",
    "\n",
    "#Speicher\n",
    "network.add(\"Store\", \n",
    "            name = \"hot_water_storage\", \n",
    "            bus = \"storage_thermal\", \n",
    "            e_nom = hot_water_storage[\"thermal_capacity\"],\n",
    "            e_cyclic = True, # Der Speicherfüllstand soll am Ende des Betrachtungszeitraumes wieder den Wert vom Anfang annehmen\n",
    "            standing_loss = hot_water_storage[\"standing_loss\"]\n",
    "            )"
   ]
  },
  {
   "cell_type": "markdown",
   "metadata": {},
   "source": [
    "### Netzanschluss definieren <a class=\"anchor\" id=\"section_2_2_6\"></a>"
   ]
  },
  {
   "cell_type": "markdown",
   "metadata": {},
   "source": [
    "Der Netzanschluss wird hier auch als \"Generator\" definiert. Das heißt es kann Leistung aus dem Netz für einen bestimmten Preis bezogen werden. Die Netzeinspeisung wird auch als \"Generator\" definiert, allerdings wird die Leistungsabgabe dieses Generators mit einem Vorzeichenwechsel umgedreht. Der \"Generator\" kann also Leistung aufnehmen. Zusätzlich sind die Kosten negativ um Erlöse durch die EEG-Vergütung abzubilden. "
   ]
  },
  {
   "cell_type": "code",
   "execution_count": null,
   "metadata": {},
   "outputs": [],
   "source": [
    "#Netzbezug\n",
    "network.add(\"Generator\", \n",
    "            name = \"grid_import\",\n",
    "            bus = \"electricity\", \n",
    "            p_nom = grid_import[\"electrical_power\"], \n",
    "            marginal_cost = grid_import[\"electricity_price\"])\n",
    "\n",
    "#Netzeinspeisung\n",
    "network.add(\"Generator\", \n",
    "            name = \"grid_export\",\n",
    "            bus = \"electricity\", \n",
    "            p_nom = grid_export[\"electrical_power\"], \n",
    "            marginal_cost = -grid_export[\"electricity_revenue\"], #Die Kosten müssen hier negativ sein, um Erlöse darzustellen\n",
    "            sign = -1) #Das Vorzeichen -1 sorgt hier dafür, dass der Generator Leistung aufnimmt und nicht abgibt."
   ]
  },
  {
   "cell_type": "markdown",
   "metadata": {},
   "source": [
    "# Simulation <a class=\"anchor\" id=\"chapter3\"></a>"
   ]
  },
  {
   "cell_type": "markdown",
   "metadata": {},
   "source": [
    "## Simulation der Basiskonfiguration <a class=\"anchor\" id=\"section_3_1\"></a>"
   ]
  },
  {
   "cell_type": "markdown",
   "metadata": {},
   "source": [
    "Um die Basisvariante ohne Wärmepumpe zu berechnen, setzten wir die Leistung der Wärmepumpe temporär auf 0. \n",
    "Die in PyPSA implementierte Funktion lopf optimiert den Einsatz aller Komponenten so, dass die dabei entstehenden Kosten minimal sind."
   ]
  },
  {
   "cell_type": "code",
   "execution_count": null,
   "metadata": {},
   "outputs": [],
   "source": [
    "# Simulation der Basiskonfiguration für den kompletten Zeitraum:\n",
    "network.lopf(solver_name = \"glpk\", pyomo = False) #Der Parameter pyomo = False hilft uns bei diesem Netzwerk RAM und Rechenzeit zu sparen."
   ]
  },
  {
   "cell_type": "markdown",
   "metadata": {},
   "source": [
    "## Auswertungsfunktion <a class=\"anchor\" id=\"section_3_2\"></a>"
   ]
  },
  {
   "cell_type": "markdown",
   "metadata": {},
   "source": [
    "Funktionen werden in python üblicherweise am Anfang eines Scriptes definiert. Aus didaktischen Gründen kommt die Definition der Funktion erst jetzt. Für Aufgaben, welche wir mehrfach ausführen, lohnt sich die Definition einer Funktion. Diese kann dann im weiteren Verlauf immer wieder aufgerufen werden. \n",
    "Wir werten hier das gelöste Netzwerk nach den gewünschten Parametern aus. "
   ]
  },
  {
   "cell_type": "code",
   "execution_count": null,
   "metadata": {},
   "outputs": [],
   "source": [
    "#Auswertung der Kosten und Anteile\n",
    "def cost_share_evaluation(network):\n",
    "    '''\n",
    "    This function evaluate the solved PyPSA network to get the costs, revenues and the share of the selfconsumption.\n",
    "    \n",
    "    Parameters\n",
    "    ----------\n",
    "    network:            PyPSA Network\n",
    "                        The solved PyPSA network with all corresponding devices\n",
    "    Returns\n",
    "    -------\n",
    "    results :           dict\n",
    "                        The dictionary with all the results.\n",
    "    '''\n",
    "    \n",
    "    grid_import = (network.generators_t.p['grid_import'] * network.snapshot_weightings).sum()\n",
    "    grid_export = (network.generators_t.p['grid_export'] * network.snapshot_weightings).sum()\n",
    "    self_consumed_pv = (network.generators_t.p['pv'] * network.snapshot_weightings).sum()- grid_export\n",
    "    self_consumption_ratio = self_consumed_pv/(grid_import + self_consumed_pv)\n",
    "    \n",
    "    electricity_cost = grid_import * network.generators.marginal_cost['grid_import']\n",
    "    electricty_revenues = grid_export * network.generators.marginal_cost['grid_export']\n",
    "    gas_costs = (network.generators_t.p['boiler']*network.snapshot_weightings).sum() * network.generators.marginal_cost['boiler']\n",
    "    \n",
    "    curtailment = ((network.generators_t.p_max_pu['pv']*network.generators.p_nom['pv'] - network.generators_t.p['pv'])*network.snapshot_weightings).sum()\n",
    "\n",
    "    results = {\"Eigenverbrauchsanteil\": self_consumption_ratio,\n",
    "              \"Stromkosten\": electricity_cost,\n",
    "              \"Gaskosten\": gas_costs,\n",
    "              \"Stromerlöse\": -electricty_revenues,\n",
    "              \"Gesamtkosten\": electricity_cost + gas_costs + electricty_revenues,\n",
    "              \"Nicht nutzbare Energie\": curtailment}\n",
    "    results_energy = {'Abregelung': curtailment,\n",
    "                      'Netzeinspeisung': grid_export,\n",
    "                      'Eigenverbrauch': self_consumed_pv,\n",
    "                      'Netzbezug': -grid_import}\n",
    "                      \n",
    "    return results, results_energy"
   ]
  },
  {
   "cell_type": "markdown",
   "metadata": {},
   "source": [
    "Ausführung der Auswertungsfunktion:"
   ]
  },
  {
   "cell_type": "code",
   "execution_count": null,
   "metadata": {
    "tags": []
   },
   "outputs": [],
   "source": [
    "results_base, results_energy_base  = cost_share_evaluation(network)\n",
    "\n",
    "#Die Werte sollen auch als Text ausgegeben werden\n",
    "print(\"Der Eigenverbrauchsanteil am Stromverbrauch in der Basiskonfiguration beträgt \"\n",
    "      + str(round(results_base[\"Eigenverbrauchsanteil\"]*100,2))\n",
    "      +\"%. Dabei entstehen Stromkosten von \"\n",
    "      +str(round(results_base[\"Stromkosten\"]/100,2))\n",
    "      +\"€, Gaskosten von \"\n",
    "      +str(round(results_base[\"Gaskosten\"]/100,2))\n",
    "      +\"€ und EEG-Erlöse von \"\n",
    "      +str(round(results_base[\"Stromerlöse\"]/100,2))\n",
    "      +\", wobei \" +str(round(results_base[\"Nicht nutzbare Energie\"]/100,1))+ \"kWh PV-Strom abgeregelt werden muss.\"\n",
    "      +\" Die Gesamtkosten betragen \"+ str(round(results_base[\"Gesamtkosten\"]/100,2)) +\"€.\"\n",
    "     )"
   ]
  },
  {
   "cell_type": "markdown",
   "metadata": {},
   "source": [
    "## Visualisierung der Ergebnisse <a class=\"anchor\" id=\"section_3_3\"></a>"
   ]
  },
  {
   "cell_type": "code",
   "execution_count": null,
   "metadata": {},
   "outputs": [],
   "source": [
    "load_figure = network.loads_t.p_set['electricity_load']\n",
    "load_figure.name = 'Elektrische Last'\n",
    "ax = load_figure.loc['10-13-19 00:00:00':'10-14-19 23:50:00'].plot(legend = True, color = 'red')\n",
    "df_figure_base = pd.concat([network.generators_t.p['pv'], network.generators_t.p['grid_import'], -network.generators_t.p['grid_export']], axis = 1)\n",
    "df_figure_base.columns = ['PV Erzeugung', 'Netzbezug', 'Netzeinspeisung']\n",
    "df_figure_base.loc['10-13-19 00:00:00':'10-14-19 23:50:00'].plot(legend =True, subplots = False, figsize=(15,10), kind= 'area', linewidth=0, ax=ax)\n"
   ]
  },
  {
   "cell_type": "markdown",
   "metadata": {},
   "source": [
    "## Erweiterterung der Konfiguration<a class=\"anchor\" id=\"section_3_4\"></a>"
   ]
  },
  {
   "cell_type": "markdown",
   "metadata": {},
   "source": [
    "Ein neues Netzwerk wird identisch zum Basisnetzwerk aufgebaut. Anschließend kann dieses neue Netzwerk um weitere Komponenten erweitert werden."
   ]
  },
  {
   "cell_type": "code",
   "execution_count": null,
   "metadata": {},
   "outputs": [],
   "source": [
    "# Basisnetzwerk implementieren:\n",
    "network_modified= pypsa.Network()\n",
    "network_modified.set_snapshots(pv_infeed.index)\n",
    "network_modified.snapshot_weightings = pd.Series(data = 1/6, index = network.snapshots) #Jeder Zeitpunkt repräsentiert 10 Minuten also 1/6 Stunde.\n",
    "#Stromknoten definieren\n",
    "network_modified.add(\"Bus\", \n",
    "            name = \"electricity\")\n",
    "#Wärmeknoten definieren\n",
    "network_modified.add(\"Bus\", \n",
    "            name = \"thermal\")\n",
    "# Elektrische Last\n",
    "network_modified.add(\"Load\", \n",
    "            name =\"electricity_load\", \n",
    "            bus = \"electricity\", \n",
    "            p_set = electrical_load.power_kw)\n",
    "# Thermische last\n",
    "network_modified.add(\"Load\", \n",
    "            name =\"thermal_load\", \n",
    "            bus = \"thermal\", \n",
    "            p_set = thermal_load.power_kw)\n",
    "#PV-Anlage\n",
    "network_modified.add(\"Generator\", \n",
    "            name = \"pv\",\n",
    "            bus = \"electricity\", \n",
    "            p_nom = pv[\"electrical_power\"], \n",
    "            p_max_pu = pv_infeed.p_max_pu, \n",
    "            marginal_cost = 0)\n",
    "#Heizkessel\n",
    "network_modified.add(\"Generator\", \n",
    "            name = \"boiler\", \n",
    "            bus = \"thermal\", \n",
    "            p_nom = heating_boiler[\"thermal_power\"], efficiency=heating_boiler[\"efficiency\"], \n",
    "            marginal_cost = heating_boiler[\"gas_costs\"]/heating_boiler[\"efficiency\"])\n",
    "# Hilfsknoten\n",
    "network_modified.add(\"Bus\", \n",
    "            name = \"storage_thermal\")\n",
    "#Einspeicherleistung vom Knoten \"thermal\" zum Knoten \"storage_thermal\"\n",
    "network_modified.add(\"Link\", \n",
    "            name = \"hot_water_storage_charge\", \n",
    "            bus0 = \"thermal\", \n",
    "            bus1 = \"storage_thermal\", \n",
    "            p_nom = hot_water_storage[\"thermal_power\"])\n",
    "#Ausspeicherleistung vom Knoten \"storage_thermal\" zum Knoten \"thermal\"\n",
    "network_modified.add(\"Link\", \n",
    "            name = \"hot_water_storage_discharge\", \n",
    "            bus0 = \"storage_thermal\", \n",
    "            bus1 = \"thermal\", \n",
    "            p_nom = hot_water_storage[\"thermal_power\"])\n",
    "#Speicher\n",
    "network_modified.add(\"Store\", \n",
    "            name = \"hot_water_storage\", \n",
    "            bus = \"storage_thermal\", \n",
    "            e_nom = hot_water_storage[\"thermal_capacity\"],\n",
    "            e_cyclic = True, # Der Speicherfüllstand soll am Ende des Betrachtungszeitraumes wieder den Wert vom Anfang annehmen\n",
    "            standing_loss = hot_water_storage[\"standing_loss\"]           )\n",
    "#Netzbezug\n",
    "network_modified.add(\"Generator\", \n",
    "            name = \"grid_import\",\n",
    "            bus = \"electricity\", \n",
    "            p_nom = grid_import[\"electrical_power\"], \n",
    "            marginal_cost = grid_import[\"electricity_price\"])\n",
    "#Netzeinspeisung\n",
    "network_modified.add(\"Generator\", \n",
    "            name = \"grid_export\",\n",
    "            bus = \"electricity\", \n",
    "            p_nom = grid_export[\"electrical_power\"], \n",
    "            marginal_cost = -grid_export[\"electricity_revenue\"], #Die Kosten müssen hier negativ sein, um Erlöse darzustellen\n",
    "            sign = -1) #Das Vorzeichen -1 sorgt hier dafür, dass der Generator Leistung aufnimmt und nicht abgibt."
   ]
  },
  {
   "cell_type": "markdown",
   "metadata": {},
   "source": [
    "Hier können nun neue Elemente in das Netzwerk intigriert werden."
   ]
  },
  {
   "cell_type": "code",
   "execution_count": null,
   "metadata": {},
   "outputs": [],
   "source": [
    "#Wärmepumpe\n",
    "#Hier können Sie die Aufgabe mit der Wärmepumpe implementieren\n"
   ]
  },
  {
   "cell_type": "code",
   "execution_count": null,
   "metadata": {},
   "outputs": [],
   "source": [
    "# Batteriespeicher\n",
    "#Hier können Sie die Aufgabe mit dem Batteriespeicher implementieren\n"
   ]
  },
  {
   "cell_type": "markdown",
   "metadata": {},
   "source": [
    "## Simulation der erweiterten Konfiguration <a class=\"anchor\" id=\"section_3_5\"></a>"
   ]
  },
  {
   "cell_type": "code",
   "execution_count": null,
   "metadata": {},
   "outputs": [],
   "source": [
    "# Simulation für den kompletten Zeitraum:\n",
    "network_modified.lopf(solver_name = \"glpk\", pyomo = False) #Der Parameter pyomo = False hilft uns bei diesem Netzwerk RAM und Rechenzeit zu sparen."
   ]
  },
  {
   "cell_type": "code",
   "execution_count": null,
   "metadata": {},
   "outputs": [],
   "source": [
    "# Ausführung der Auswertungsfunktion\n",
    "results_with_modification, results_energy_with_modification = cost_share_evaluation(network_modified)\n",
    "print(\"Der Eigenverbrauchsanteil am Stromverbrauch in der erweiterten Konfiguration beträgt \"\n",
    "      + str(round(results_with_modification[\"Eigenverbrauchsanteil\"]*100,2))\n",
    "      +\"%.\\n Dabei entstehen Stromkosten von \"\n",
    "      +str(round(results_with_modification[\"Stromkosten\"]/100,2))\n",
    "      +\"€, Gaskosten von \"\n",
    "      +str(round(results_with_modification[\"Gaskosten\"]/100,2))\n",
    "      +\"€ und EEG-Erlöse von \"\n",
    "      +str(round(results_with_modification[\"Stromerlöse\"]/100,2))\n",
    "      +\", wobei \" +str(round(results_with_modification[\"Nicht nutzbare Energie\"]/100,1))\n",
    "      + \"kWh PV-Strom abgeregelt werden müssen.\\n\"\n",
    "      +\" Die Gesamtkosten betragen \"+ str(round(results_with_modification[\"Gesamtkosten\"]/100,2)) \n",
    "      +\"€.\\n\"\n",
    "      +\"Gegenüber der Basiskonfiguration ist dies eine Erhöhung des Eigenverbrauchsanteils um \"\n",
    "      +str(round((results_with_modification[\"Eigenverbrauchsanteil\"]- results_base[\"Eigenverbrauchsanteil\"])*100,2))\n",
    "      +\" Prozentpunkte und eine Verringerung der Kosten um \"\n",
    "      +str(round((results_base[\"Gesamtkosten\"]-results_with_modification[\"Gesamtkosten\"])/100,2))\n",
    "      +\"€.\"\n",
    "     )"
   ]
  },
  {
   "cell_type": "markdown",
   "metadata": {},
   "source": [
    "# Visualisierung des Vergleichs <a class=\"anchor\" id=\"chapter4\"></a>"
   ]
  },
  {
   "cell_type": "markdown",
   "metadata": {},
   "source": [
    "Wir visualisieren am Ende noch Ergebnisse der Simulation mit Wärmepumpe sowie einen Vergleich der Energiebilanzen mit und ohne Wärmepumpe. "
   ]
  },
  {
   "cell_type": "code",
   "execution_count": null,
   "metadata": {},
   "outputs": [],
   "source": [
    "total_load = pd.concat([network_modified.loads_t.p_set['electricity_load'], network_modified.links_t.p0['heat_pump']], axis = 1)\n",
    "total_load.columns = ['Elektrische Last', 'Wärmepumpe']\n",
    "ax = total_load.loc['10-13-19 00:00:00':'10-14-19 23:50:00'].plot(color = ['red', 'black'], legend = True, stacked = False)\n",
    "df_figure_with_modification = pd.concat([network_modified.generators_t.p['pv'], network_modified.generators_t.p['grid_import'], -network_modified.generators_t.p['grid_export']], axis = 1)\n",
    "df_figure_with_modification.columns = ['PV Erzeugung', 'Netzbezug', 'Netzeinspeisung']\n",
    "df_figure_with_modification.loc['10-13-19 00:00:00':'10-14-19 23:50:00'].plot(subplots = False, figsize=(15,10), kind= 'area', linewidth=0, ax = ax)"
   ]
  },
  {
   "cell_type": "code",
   "execution_count": null,
   "metadata": {},
   "outputs": [],
   "source": [
    "energy_figure = pd.DataFrame([results_energy_base, results_energy_with_modification], index = ['Basis', 'Mit Modifikation'])"
   ]
  },
  {
   "cell_type": "markdown",
   "metadata": {},
   "source": [
    "Die Energiebilanz zeigt uns die Verwendung der Elektrizität im Monat Oktober mit und ohne Modifikation. Dabei können sehen, dass der Anteil des Eigenverbrauchs (in grün) mit zusätzlichen Flexibilitäten ansteigt."
   ]
  },
  {
   "cell_type": "code",
   "execution_count": null,
   "metadata": {},
   "outputs": [],
   "source": [
    "energy_figure.plot(kind='bar', stacked = True, figsize=(14,7), title = 'Elektrizitätsbilanz in kWh')"
   ]
  }
 ],
 "metadata": {
  "celltoolbar": "Raw Cell Format",
  "kernelspec": {
   "display_name": "Python 3",
   "language": "python",
   "name": "python3"
  },
  "language_info": {
   "codemirror_mode": {
    "name": "ipython",
    "version": 3
   },
   "file_extension": ".py",
   "mimetype": "text/x-python",
   "name": "python",
   "nbconvert_exporter": "python",
   "pygments_lexer": "ipython3",
   "version": "3.9.2"
  }
 },
 "nbformat": 4,
 "nbformat_minor": 4
}
